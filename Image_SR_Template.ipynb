{
  "nbformat": 4,
  "nbformat_minor": 0,
  "metadata": {
    "colab": {
      "name": "Image-SR-Template",
      "provenance": [],
      "include_colab_link": true
    },
    "kernelspec": {
      "name": "python3",
      "display_name": "Python 3"
    },
    "language_info": {
      "name": "python"
    }
  },
  "cells": [
    {
      "cell_type": "markdown",
      "metadata": {
        "id": "view-in-github",
        "colab_type": "text"
      },
      "source": [
        "<a href=\"https://colab.research.google.com/github/DrAlexSanz/Image-SR/blob/master/Image_SR_Template.ipynb\" target=\"_parent\"><img src=\"https://colab.research.google.com/assets/colab-badge.svg\" alt=\"Open In Colab\"/></a>"
      ]
    },
    {
      "cell_type": "code",
      "metadata": {
        "colab": {
          "base_uri": "https://localhost:8080/"
        },
        "id": "WXIaQCCUim8M",
        "outputId": "77a92eab-47d4-4f4e-9f76-63bdea3bb8d8"
      },
      "source": [
        "!git clone https://github.com/DrAlexSanz/Image-SR.git"
      ],
      "execution_count": 1,
      "outputs": [
        {
          "output_type": "stream",
          "text": [
            "Cloning into 'Image-SR'...\n",
            "remote: Enumerating objects: 2528, done.\u001b[K\n",
            "remote: Counting objects: 100% (34/34), done.\u001b[K\n",
            "remote: Compressing objects: 100% (34/34), done.\u001b[K\n",
            "remote: Total 2528 (delta 17), reused 0 (delta 0), pack-reused 2494\u001b[K\n",
            "Receiving objects: 100% (2528/2528), 4.68 GiB | 27.16 MiB/s, done.\n",
            "Resolving deltas: 100% (442/442), done.\n"
          ],
          "name": "stdout"
        }
      ]
    },
    {
      "cell_type": "code",
      "metadata": {
        "id": "QjOYVtWje5xS"
      },
      "source": [
        "import glob\n",
        "import numpy as np\n",
        "import matplotlib.pyplot as plt\n",
        "from PIL import Image\n",
        "import glob\n",
        "import os, shutil\n",
        "from distutils.dir_util import copy_tree\n",
        "\n",
        "os.chdir(\"/content/Image-SR\") #Change to the working directory\n",
        "\n",
        "from ISR_utils import load_pictures, rename, copy_files, make_val_set, explore_dimensions, rename, resize_input"
      ],
      "execution_count": 8,
      "outputs": []
    },
    {
      "cell_type": "code",
      "metadata": {
        "id": "SrzU0nJuIoNL",
        "colab": {
          "base_uri": "https://localhost:8080/"
        },
        "outputId": "bd5333fb-0df2-44ee-a66b-e175f583ecfe"
      },
      "source": [
        "from google.colab import drive\n",
        "drive.mount('/content/drive', force_remount = True)"
      ],
      "execution_count": 4,
      "outputs": [
        {
          "output_type": "stream",
          "text": [
            "Mounted at /content/drive\n"
          ],
          "name": "stdout"
        }
      ]
    },
    {
      "cell_type": "code",
      "metadata": {
        "id": "8FuferqaJHI7"
      },
      "source": [
        "#copy_files() # It takes ages to copy. It's safer but don't run it"
      ],
      "execution_count": null,
      "outputs": []
    },
    {
      "cell_type": "code",
      "metadata": {
        "id": "R6gLBs_2NtYr",
        "colab": {
          "base_uri": "https://localhost:8080/",
          "height": 846
        },
        "outputId": "2bfeda46-b9e3-48e7-a5b3-5ee376a5cb73"
      },
      "source": [
        "#rename(\"/content/drive/MyDrive/Image-SR/test/LR\") Already done\n",
        "\n",
        "make_val_set(\"/content/drive/MyDrive/Image-SR/val\", \"/content/drive/MyDrive/Image-SR/val/HR\", \"/content/drive/MyDrive/Image-SR/val/HR\")"
      ],
      "execution_count": 10,
      "outputs": [
        {
          "output_type": "stream",
          "text": [
            "ERROR:root:Internal Python error in the inspect module.\n",
            "Below is the traceback from this internal error.\n",
            "\n"
          ],
          "name": "stderr"
        },
        {
          "output_type": "stream",
          "text": [
            "Traceback (most recent call last):\n",
            "  File \"/usr/local/lib/python3.7/dist-packages/IPython/core/interactiveshell.py\", line 2882, in run_code\n",
            "    exec(code_obj, self.user_global_ns, self.user_ns)\n",
            "  File \"<ipython-input-10-aeb0549408db>\", line 3, in <module>\n",
            "    make_val_set(\"/content/drive/MyDrive/Image-SR/val\", \"/content/drive/MyDrive/Image-SR/val/HR\", \"/content/drive/MyDrive/Image-SR/val/HR\")\n",
            "  File \"/content/Image-SR/ISR_utils.py\", line 78, in make_val_set\n",
            "  File \"/usr/lib/python3.7/shutil.py\", line 485, in rmtree\n",
            "    onerror(os.lstat, path, sys.exc_info())\n",
            "  File \"/usr/lib/python3.7/shutil.py\", line 483, in rmtree\n",
            "    orig_st = os.lstat(path)\n",
            "FileNotFoundError: [Errno 2] No such file or directory: '/content/Image-SR'\n",
            "\n",
            "During handling of the above exception, another exception occurred:\n",
            "\n",
            "Traceback (most recent call last):\n",
            "  File \"/usr/local/lib/python3.7/dist-packages/IPython/core/interactiveshell.py\", line 1823, in showtraceback\n",
            "    stb = value._render_traceback_()\n",
            "AttributeError: 'FileNotFoundError' object has no attribute '_render_traceback_'\n",
            "\n",
            "During handling of the above exception, another exception occurred:\n",
            "\n",
            "Traceback (most recent call last):\n",
            "  File \"/usr/local/lib/python3.7/dist-packages/IPython/core/ultratb.py\", line 1132, in get_records\n",
            "    return _fixed_getinnerframes(etb, number_of_lines_of_context, tb_offset)\n",
            "  File \"/usr/local/lib/python3.7/dist-packages/IPython/core/ultratb.py\", line 313, in wrapped\n",
            "    return f(*args, **kwargs)\n",
            "  File \"/usr/local/lib/python3.7/dist-packages/IPython/core/ultratb.py\", line 358, in _fixed_getinnerframes\n",
            "    records = fix_frame_records_filenames(inspect.getinnerframes(etb, context))\n",
            "  File \"/usr/lib/python3.7/inspect.py\", line 1502, in getinnerframes\n",
            "    frameinfo = (tb.tb_frame,) + getframeinfo(tb, context)\n",
            "  File \"/usr/lib/python3.7/inspect.py\", line 1460, in getframeinfo\n",
            "    filename = getsourcefile(frame) or getfile(frame)\n",
            "  File \"/usr/lib/python3.7/inspect.py\", line 696, in getsourcefile\n",
            "    if getattr(getmodule(object, filename), '__loader__', None) is not None:\n",
            "  File \"/usr/lib/python3.7/inspect.py\", line 725, in getmodule\n",
            "    file = getabsfile(object, _filename)\n",
            "  File \"/usr/lib/python3.7/inspect.py\", line 709, in getabsfile\n",
            "    return os.path.normcase(os.path.abspath(_filename))\n",
            "  File \"/usr/lib/python3.7/posixpath.py\", line 383, in abspath\n",
            "    cwd = os.getcwd()\n",
            "FileNotFoundError: [Errno 2] No such file or directory\n"
          ],
          "name": "stdout"
        },
        {
          "output_type": "error",
          "ename": "FileNotFoundError",
          "evalue": "ignored",
          "traceback": [
            "\u001b[0;31m---------------------------------------------------------------------------\u001b[0m"
          ]
        }
      ]
    }
  ]
}