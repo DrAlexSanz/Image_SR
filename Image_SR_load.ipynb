{
  "nbformat": 4,
  "nbformat_minor": 0,
  "metadata": {
    "colab": {
      "name": "Image_SR_load.ipynb",
      "provenance": [],
      "include_colab_link": true
    },
    "kernelspec": {
      "name": "python3",
      "display_name": "Python 3"
    },
    "language_info": {
      "name": "python"
    },
    "accelerator": "GPU"
  },
  "cells": [
    {
      "cell_type": "markdown",
      "metadata": {
        "id": "view-in-github",
        "colab_type": "text"
      },
      "source": [
        "<a href=\"https://colab.research.google.com/github/DrAlexSanz/Image_SR/blob/Master/Image_SR_load.ipynb\" target=\"_parent\"><img src=\"https://colab.research.google.com/assets/colab-badge.svg\" alt=\"Open In Colab\"/></a>"
      ]
    },
    {
      "cell_type": "code",
      "metadata": {
        "colab": {
          "base_uri": "https://localhost:8080/"
        },
        "id": "WXIaQCCUim8M",
        "outputId": "281fa779-1ccb-4dbe-8dbb-42c257a95052"
      },
      "source": [
        "!git clone https://github.com/DrAlexSanz/Image_SR.git"
      ],
      "execution_count": 1,
      "outputs": [
        {
          "output_type": "stream",
          "name": "stdout",
          "text": [
            "Cloning into 'Image_SR'...\n",
            "remote: Enumerating objects: 28, done.\u001b[K\n",
            "remote: Counting objects: 100% (28/28), done.\u001b[K\n",
            "remote: Compressing objects: 100% (25/25), done.\u001b[K\n",
            "remote: Total 28 (delta 10), reused 14 (delta 2), pack-reused 0\u001b[K\n",
            "Unpacking objects: 100% (28/28), done.\n"
          ]
        }
      ]
    },
    {
      "cell_type": "code",
      "metadata": {
        "id": "QjOYVtWje5xS"
      },
      "source": [
        "import glob\n",
        "import numpy as np\n",
        "import matplotlib.pyplot as plt\n",
        "from PIL import Image\n",
        "import glob\n",
        "import os, shutil\n",
        "from distutils.dir_util import copy_tree\n",
        "\n",
        "os.chdir(\"/content/Image_SR\") #Change to the working directory\n",
        "\n",
        "from ISR_utils import load_pictures, rename, copy_files, make_val_set, explore_dimensions, rename, resize_imgs_low_res"
      ],
      "execution_count": 9,
      "outputs": []
    },
    {
      "cell_type": "code",
      "metadata": {
        "id": "SrzU0nJuIoNL",
        "colab": {
          "base_uri": "https://localhost:8080/"
        },
        "outputId": "eb897205-5d03-494c-a8bb-0ad780f7bcc8"
      },
      "source": [
        "from google.colab import drive\n",
        "drive.mount('/content/drive', force_remount = True)"
      ],
      "execution_count": 3,
      "outputs": [
        {
          "output_type": "stream",
          "name": "stdout",
          "text": [
            "Mounted at /content/drive\n"
          ]
        }
      ]
    },
    {
      "cell_type": "code",
      "metadata": {
        "id": "QuEowxQbmmpd"
      },
      "source": [
        "#Define paths\n",
        "\n",
        "path_train_HR = \"/content/drive/MyDrive/Image-SR/train/HR\"\n",
        "path_train_LR =  \"/content/drive/MyDrive/Image-SR/train/LR\"\n",
        "path_train_LR_resize =  \"/content/drive/MyDrive/Image-SR/train/LR_resize\"\n",
        "\n",
        "path_test_HR = \"/content/drive/MyDrive/Image-SR/test/HR\"\n",
        "path_test_LR = \"/content/drive/MyDrive/Image-SR/test/LR\"\n",
        "path_test_LR_resize = \"/content/drive/MyDrive/Image-SR/test/LR_resize\"\n",
        "\n",
        "path_val_HR = \"/content/drive/MyDrive/Image-SR/val/HR\"\n",
        "path_val_LR = \"/content/drive/MyDrive/Image-SR/val/LR\"\n",
        "path_val_LR_resize = \"/content/drive/MyDrive/Image-SR/val/LR_resize\"\n"
      ],
      "execution_count": 6,
      "outputs": []
    },
    {
      "cell_type": "code",
      "metadata": {
        "id": "7j-33rD5siZU"
      },
      "source": [
        "# Run only once and save, the train images take long\n",
        "\n",
        "resize = False\n",
        "\n",
        "if resize == True:\n",
        "    resize_imgs_low_res(path_test_LR, path_test_LR_resize, \"test\")\n",
        "    resize_imgs_low_res(path_val_LR, path_val_LR_resize, \"val\")\n",
        "    resize_imgs_low_res(path_train_LR, path_train_LR_resize, \"train\")"
      ],
      "execution_count": 27,
      "outputs": []
    }
  ]
}