{
  "nbformat": 4,
  "nbformat_minor": 0,
  "metadata": {
    "colab": {
      "name": "Auto-Encoder.ipynb",
      "provenance": [],
      "collapsed_sections": [],
      "machine_shape": "hm",
      "include_colab_link": true
    },
    "kernelspec": {
      "name": "python3",
      "display_name": "Python 3"
    },
    "accelerator": "GPU"
  },
  "cells": [
    {
      "cell_type": "markdown",
      "metadata": {
        "id": "view-in-github",
        "colab_type": "text"
      },
      "source": [
        "<a href=\"https://colab.research.google.com/github/DrAlexSanz/Image-SR/blob/master/Auto_Encoder.ipynb\" target=\"_parent\"><img src=\"https://colab.research.google.com/assets/colab-badge.svg\" alt=\"Open In Colab\"/></a>"
      ]
    },
    {
      "cell_type": "markdown",
      "metadata": {
        "id": "E5JaASOTAAQ9",
        "colab_type": "text"
      },
      "source": [
        "The end goal of this is to create an upsampling of given pictures (2x, at least for starters). There are many interpolation and deep learning methods/models to achieve this. In my opinion, after reading the papers I could find and considering my (lack of) resources I chose to use an autoencoder approach.\n",
        "\n",
        "The idea is to train an autoencoder to downsample and then upsample the pictures. This way, I will input the original high resolution (HR) image and I expect to obtain an equivalent generated HR image.\n",
        "\n",
        "A priori I can make a CNN to obtain a generated LR image from my HR image. The network would be trained using the original LR pictures. Then I can create a DeCNN to obtain the generated HR image.\n",
        "\n",
        "I don't want to obtain a bigger image in cm, but in resolution. The idea is to start with an image of (x, y) pixels and end up with (x, y) pixels. This aims to de-square the pictures when you upsample by interpolating. Nearest neighbour, linear, cubic, etc. tend to produce artifacts, aliasing and other problems. Basically I will resize the LR image (using scikit image or something like this) to have the same number of pictures as the HR one and then run it through the autoencoder. Making a network that does it all together is for the next version. Start simple.\n",
        "\n",
        "Check these videos for reference.\n",
        "\n",
        "[Resizing images](https://youtu.be/AqscP7rc8_M)\n",
        "\n",
        "[Bicubic interpolation](https://www.youtube.com/watch?v=poY_nGzEEWM)"
      ]
    },
    {
      "cell_type": "markdown",
      "metadata": {
        "id": "B44BKpKWOPCA",
        "colab_type": "text"
      },
      "source": [
        "So the idea is to implement an encoder to obtain a downsampled image. Then this downsampled image goes to the decoder and it generates a sharper image."
      ]
    },
    {
      "cell_type": "markdown",
      "metadata": {
        "id": "x6ARm89A7Usd",
        "colab_type": "text"
      },
      "source": [
        "Cloning is going to take a while (around 2 min.) but it's worth it. I can keep files there cheaply and I don't have the resources to keep them in an easily accessible place. Sorry github/google people. I'm poor :("
      ]
    },
    {
      "cell_type": "code",
      "metadata": {
        "id": "IkEIEzxsDIPR",
        "colab_type": "code",
        "colab": {}
      },
      "source": [
        "import glob\n",
        "import numpy as np\n",
        "import matplotlib.pyplot as plt\n",
        "from PIL import Image\n",
        "import glob\n",
        "import os, shutil\n"
      ],
      "execution_count": 0,
      "outputs": []
    },
    {
      "cell_type": "code",
      "metadata": {
        "id": "WXE6JpUkDTev",
        "colab_type": "code",
        "outputId": "d358b028-8631-410b-d7dd-29f8752a65cd",
        "colab": {
          "base_uri": "https://localhost:8080/",
          "height": 34
        }
      },
      "source": [
        "from google.colab import drive\n",
        "drive.mount('/content/drive', force_remount = True)"
      ],
      "execution_count": 2,
      "outputs": [
        {
          "output_type": "stream",
          "text": [
            "Mounted at /content/drive\n"
          ],
          "name": "stdout"
        }
      ]
    },
    {
      "cell_type": "code",
      "metadata": {
        "id": "0tn_oMMv_8_s",
        "colab_type": "code",
        "colab": {}
      },
      "source": [
        "# !rm -rf Image-SR\n",
        "\n",
        "# !git clone https://github.com/DrAlexSanz/Image-SR.git\n",
        "\n"
      ],
      "execution_count": 0,
      "outputs": []
    },
    {
      "cell_type": "code",
      "metadata": {
        "id": "vyTE2hfjP-aG",
        "colab_type": "code",
        "outputId": "630f3c5c-c5da-47bb-cce9-483e11ea01a6",
        "colab": {
          "base_uri": "https://localhost:8080/",
          "height": 224
        }
      },
      "source": [
        "os.chdir(\"/content/drive/My Drive/Image-SR\")\n",
        "os.remove(\"ISR_utils.py\")\n",
        "!wget https://raw.githubusercontent.com/DrAlexSanz/Image-SR/master/ISR_utils.py\n",
        "from ISR_utils import *"
      ],
      "execution_count": 3,
      "outputs": [
        {
          "output_type": "stream",
          "text": [
            "--2019-10-03 07:55:14--  https://raw.githubusercontent.com/DrAlexSanz/Image-SR/master/ISR_utils.py\n",
            "Resolving raw.githubusercontent.com (raw.githubusercontent.com)... 151.101.0.133, 151.101.64.133, 151.101.128.133, ...\n",
            "Connecting to raw.githubusercontent.com (raw.githubusercontent.com)|151.101.0.133|:443... connected.\n",
            "HTTP request sent, awaiting response... 200 OK\n",
            "Length: 6294 (6.1K) [text/plain]\n",
            "Saving to: ‘ISR_utils.py’\n",
            "\n",
            "\rISR_utils.py          0%[                    ]       0  --.-KB/s               \rISR_utils.py        100%[===================>]   6.15K  --.-KB/s    in 0.001s  \n",
            "\n",
            "2019-10-03 07:55:14 (8.42 MB/s) - ‘ISR_utils.py’ saved [6294/6294]\n",
            "\n"
          ],
          "name": "stdout"
        }
      ]
    },
    {
      "cell_type": "markdown",
      "metadata": {
        "id": "rLrNdtI-Ytt_",
        "colab_type": "text"
      },
      "source": [
        "I could load the pictures into a np array. This would be feasible with smaller pictures. I included a function for that in the utils file because I had it. Since loading all the pictures is not feasible I have to use flow from directory. I don't want to perform data augmentation now, that I will do it in the next version."
      ]
    },
    {
      "cell_type": "code",
      "metadata": {
        "id": "BSGA9pTQcD1i",
        "colab_type": "code",
        "colab": {}
      },
      "source": [
        "copy_files()"
      ],
      "execution_count": 0,
      "outputs": []
    },
    {
      "cell_type": "markdown",
      "metadata": {
        "id": "h9inaL44bYA_",
        "colab_type": "text"
      },
      "source": [
        "Someone decided to include a 2x in the name of the LR pictures and that only creates problems. Remove it to have the same file names in each directory."
      ]
    },
    {
      "cell_type": "code",
      "metadata": {
        "id": "EXAFTF_XbYnd",
        "colab_type": "code",
        "colab": {}
      },
      "source": [
        "path_train_LR = \"/content/Image-SR/train/LR\"\n",
        "path_test_LR = \"/content/Image-SR/test/LR\"\n",
        "\n",
        "rename(path_train_LR)\n",
        "rename(path_test_LR)"
      ],
      "execution_count": 0,
      "outputs": []
    },
    {
      "cell_type": "markdown",
      "metadata": {
        "id": "AWAn8mjLbSNb",
        "colab_type": "text"
      },
      "source": [
        "First things first. I have train and test pictures, but no validation set. Since I don't have a lot of data, I will use let's say the last 50 images from the train examples to create my validation set. The pictures don't follow any order that I can detect so I don't need to sample randomly."
      ]
    },
    {
      "cell_type": "code",
      "metadata": {
        "id": "LV9cFVpYjQvH",
        "colab_type": "code",
        "colab": {}
      },
      "source": [
        "make_val_set()"
      ],
      "execution_count": 0,
      "outputs": []
    },
    {
      "cell_type": "markdown",
      "metadata": {
        "id": "w11x0IOkS1cG",
        "colab_type": "text"
      },
      "source": [
        "Now I want to explore the image dimensions. I know the height and the width of the HR one are divided by 2 in the LR version. But all of them have a different number of pixels. Let's explore the dataset to fix a dimension for the input and output."
      ]
    },
    {
      "cell_type": "code",
      "metadata": {
        "id": "jfYeYpI3lmCe",
        "colab_type": "code",
        "colab": {
          "base_uri": "https://localhost:8080/",
          "height": 784
        },
        "outputId": "2e5d835a-a923-4e69-a2b1-0c398a2c874f"
      },
      "source": [
        "path_train_HR = \"/content/Image-SR/train/HR\"\n",
        "\n",
        "mean_h, median_h, mean_w, median_w = explore_dimensions(path_train_HR)"
      ],
      "execution_count": 7,
      "outputs": [
        {
          "output_type": "stream",
          "text": [
            "The mean of the heights is:  1970\n",
            "The median of the heights is:  2040.0\n",
            "The mean of the widths is:  1435\n",
            "The median of the widths is:  1356.0\n"
          ],
          "name": "stdout"
        },
        {
          "output_type": "display_data",
          "data": {
            "image/png": "[encoded data removed]",
            "text/plain": [
              "<Figure size 1080x864 with 2 Axes>"
            ]
          },
          "metadata": {
            "tags": []
          }
        }
      ]
    },
    {
      "cell_type": "markdown",
      "metadata": {
        "id": "NOJ2ABPuyOgk",
        "colab_type": "text"
      },
      "source": [
        "Now I see that most of the heights are 2040 pixels and the widths must be 1356. The width has much more dispersion than the heights. I think if I choose these dimensions I am causing the least distortion to my dataset. In any case I can always change this setting later. Like this I also keep the most common aspect ratio."
      ]
    },
    {
      "cell_type": "code",
      "metadata": {
        "id": "2SoYFQEayl8O",
        "colab_type": "code",
        "colab": {}
      },
      "source": [
        "input_height = int(median_h) #2040\n",
        "input_width = int(median_w) #1356"
      ],
      "execution_count": 0,
      "outputs": []
    },
    {
      "cell_type": "markdown",
      "metadata": {
        "id": "6jrOGUmFmhuq",
        "colab_type": "text"
      },
      "source": [
        "Now resize ONCE. As explained in the docstring of the function resize()"
      ]
    },
    {
      "cell_type": "code",
      "metadata": {
        "id": "OH_KFygucFkN",
        "colab_type": "code",
        "colab": {}
      },
      "source": [
        "# For the LR files\n",
        "path_test_LR = \"/content/Image-SR/test/LR\"\n",
        "path_train_LR = \"/content/Image-SR/train/LR\"\n",
        "path_val_LR = \"/content/Image-SR/val/LR\"\n",
        "\n",
        "# I don't make a for loop, this is easy to see and I only have 3 cases.\n",
        "\n",
        "resize_input(input_height, input_width, path_test_LR)\n",
        "resize_input(input_height, input_width, path_val_LR)\n",
        "resize_input(input_height, input_width, path_train_LR)"
      ],
      "execution_count": 0,
      "outputs": []
    },
    {
      "cell_type": "code",
      "metadata": {
        "id": "i-IUVd-IsxjL",
        "colab_type": "code",
        "colab": {}
      },
      "source": [
        "# For the HR files\n",
        "path_test_HR = \"/content/Image-SR/test/HR\"\n",
        "path_train_HR = \"/content/Image-SR/train/HR\"\n",
        "path_val_HR = \"/content/Image-SR/val/HR\"\n",
        "\n",
        "# I don't make a for loop, this is easy to see and I only have 3 cases.\n",
        "\n",
        "resize_input(input_height, input_width, path_test_HR)\n",
        "resize_input(input_height, input_width, path_val_HR)\n",
        "resize_input(input_height, input_width, path_train_HR)"
      ],
      "execution_count": 0,
      "outputs": []
    }
  ]
}